{
  "nbformat": 4,
  "nbformat_minor": 0,
  "metadata": {
    "colab": {
      "provenance": []
    },
    "kernelspec": {
      "name": "python3",
      "display_name": "Python 3"
    },
    "language_info": {
      "name": "python"
    }
  },
  "cells": [
    {
      "cell_type": "markdown",
      "source": [
        "# **STATIC_BASIC**"
      ],
      "metadata": {
        "id": "XRnxORHB3bY3"
      }
    },
    {
      "cell_type": "markdown",
      "source": [
        "1. What is statistics, and why is it important?\n",
        "- Statistics is the science of collecting, analyzing, interpreting, and presenting data.\n",
        "It helps make informed decisions using real-world information."
      ],
      "metadata": {
        "id": "eMmFXJ4H2EuB"
      }
    },
    {
      "cell_type": "markdown",
      "source": [
        "2. What are the two main types of statistics?\n",
        "- Descriptive statistics summarize data, and inferential statistics draw conclusions from it.\n",
        "They help in understanding and predicting data behavior."
      ],
      "metadata": {
        "id": "__VVXunu2HYs"
      }
    },
    {
      "cell_type": "markdown",
      "source": [
        "3. What are descriptive statistics?\n",
        "- Descriptive statistics describe the basic features of data.\n",
        "They include measures like mean, median, mode, and range."
      ],
      "metadata": {
        "id": "F2MntrBc2KL8"
      }
    },
    {
      "cell_type": "markdown",
      "source": [
        "4. What is inferential statistics?\n",
        "- Inferential statistics use sample data to make predictions about a population.\n",
        "It includes hypothesis testing and confidence intervals."
      ],
      "metadata": {
        "id": "FWwwKoE32Nle"
      }
    },
    {
      "cell_type": "markdown",
      "source": [
        "5. What is sampling in statistics?\n",
        "- Sampling is selecting a subset of individuals from a population for analysis.\n",
        "It saves time and resources while giving useful estimates."
      ],
      "metadata": {
        "id": "vSSFDMX22QoH"
      }
    },
    {
      "cell_type": "markdown",
      "source": [
        "6. What are the different types of sampling methods?\n",
        "- Common types include simple random, stratified, systematic, cluster, and convenience sampling.\n",
        "Each has a different way of choosing sample members."
      ],
      "metadata": {
        "id": "5aaerJdy2UO1"
      }
    },
    {
      "cell_type": "markdown",
      "source": [
        "7. What is the difference between random and non-random sampling?\n",
        "- Random sampling gives every unit an equal chance of selection.\n",
        "Non-random sampling does not follow this principle, risking bias."
      ],
      "metadata": {
        "id": "9-Hjx5AE2YVm"
      }
    },
    {
      "cell_type": "markdown",
      "source": [
        "8. Define and give examples of qualitative and quantitative data.\n",
        "- Qualitative data are non-numeric (e.g., color, gender), while quantitative are numeric (e.g., height, marks).\n",
        "Both help in analyzing different aspects of data."
      ],
      "metadata": {
        "id": "_YyqkzSR2bgj"
      }
    },
    {
      "cell_type": "markdown",
      "source": [
        "9. What are the different types of data in statistics?\n",
        "- Data types include nominal, ordinal, interval, and ratio.\n",
        "These define the nature and scale of measurement."
      ],
      "metadata": {
        "id": "ag2D7x332duE"
      }
    },
    {
      "cell_type": "markdown",
      "source": [
        "10. Explain nominal, ordinal, interval, and ratio levels of measurement.\n",
        "- Nominal: names (e.g., gender), Ordinal: ranked (e.g., rating),\n",
        "Interval: numeric without true zero (e.g., temperature), Ratio: numeric with true zero (e.g., weight)."
      ],
      "metadata": {
        "id": "vcPJJY2R2g9L"
      }
    },
    {
      "cell_type": "markdown",
      "source": [
        "11. What is the measure of central tendency?\n",
        "- It represents the center or average of a dataset.\n",
        "Common measures are mean, median, and mode."
      ],
      "metadata": {
        "id": "Yd9AmipG2kBX"
      }
    },
    {
      "cell_type": "markdown",
      "source": [
        "12. Define mean, median, and mode.\n",
        "- Mean is the average, median is the middle value, and mode is the most frequent value.\n",
        "They help understand data distribution."
      ],
      "metadata": {
        "id": "TZvjLimq2p7H"
      }
    },
    {
      "cell_type": "markdown",
      "source": [
        "13. What is the significance of the measure of central tendency?\n",
        "- It helps identify the typical or average value in a dataset.\n",
        "Useful for comparing and summarizing data."
      ],
      "metadata": {
        "id": "yhqoVH5V2uH3"
      }
    },
    {
      "cell_type": "markdown",
      "source": [
        "14. What is variance, and how is it calculated?\n",
        "- Variance measures how far data points spread out from the mean.\n",
        "It’s calculated as the average of squared differences from the mean."
      ],
      "metadata": {
        "id": "FpmKCzDa2w-z"
      }
    },
    {
      "cell_type": "markdown",
      "source": [
        "15. What is standard deviation, and why is it important?\n",
        "- Standard deviation shows how much data deviates from the mean.\n",
        "It helps understand data consistency or variability."
      ],
      "metadata": {
        "id": "ijzhz86521Tn"
      }
    },
    {
      "cell_type": "markdown",
      "source": [
        "16. Define and explain the term range in statistics.\n",
        "- Range is the difference between the highest and lowest values.\n",
        "It shows the spread of the data."
      ],
      "metadata": {
        "id": "1w-B8oWK24Zm"
      }
    },
    {
      "cell_type": "markdown",
      "source": [
        "17. What is the difference between variance and standard deviation?\n",
        "- Variance is the average squared deviation from the mean.\n",
        "Standard deviation is the square root of the variance."
      ],
      "metadata": {
        "id": "d5ysmMYw2_cv"
      }
    },
    {
      "cell_type": "markdown",
      "source": [
        "18. What is skewness in a dataset?\n",
        "- Skewness measures the asymmetry of data distribution.\n",
        "It tells if data leans more toward one side."
      ],
      "metadata": {
        "id": "cnV5y64D3C9A"
      }
    },
    {
      "cell_type": "markdown",
      "source": [
        "19. What does it mean if a dataset is positively or negatively skewed?\n",
        "- Positive skew: tail on the right; negative skew: tail on the left.\n",
        "It affects interpretation of the mean and median."
      ],
      "metadata": {
        "id": "VmgsJRYy3GSn"
      }
    },
    {
      "cell_type": "markdown",
      "source": [
        "20. Define and explain kurtosis.\n",
        "- Kurtosis measures the \"tailedness\" of a distribution.\n",
        "High kurtosis means more outliers; low means fewer."
      ],
      "metadata": {
        "id": "hECJC9In3I55"
      }
    },
    {
      "cell_type": "markdown",
      "source": [
        "21. What is the purpose of covariance?\n",
        "- Covariance shows how two variables change together.\n",
        "A positive value means they increase together; negative means opposite."
      ],
      "metadata": {
        "id": "yQOar8MN3LLF"
      }
    },
    {
      "cell_type": "markdown",
      "source": [
        "22. What does correlation measure in statistics?\n",
        "- Correlation measures the strength and direction of a linear relationship between variables.\n",
        "It ranges from -1 to +1."
      ],
      "metadata": {
        "id": "9wwaIvgn3ODi"
      }
    },
    {
      "cell_type": "markdown",
      "source": [
        "23. What is the difference between covariance and correlation?\n",
        "- Covariance shows direction of relation; correlation shows both direction and strength.\n",
        "Correlation is scaled and easier to interpret."
      ],
      "metadata": {
        "id": "jO4dLB_b3RDT"
      }
    },
    {
      "cell_type": "markdown",
      "source": [
        "24. What are some real-world applications of statistics?\n",
        "- Statistics is used in economics, medicine, marketing, sports, politics, and research.\n",
        "It aids in forecasting, quality control, and decision-making."
      ],
      "metadata": {
        "id": "fxvvY6Ze3XcS"
      }
    },
    {
      "cell_type": "markdown",
      "source": [
        "# **PRACTICAL_QUESTIONS**"
      ],
      "metadata": {
        "id": "dEWBSPxL3aF4"
      }
    },
    {
      "cell_type": "markdown",
      "source": [
        "1. How do you calculate the mean, median, and mode of a dataset?"
      ],
      "metadata": {
        "id": "WCLx2qDc5PTo"
      }
    },
    {
      "cell_type": "code",
      "source": [
        "import statistics as stats\n",
        "\n",
        "data = [10, 20, 20, 30, 40]\n",
        "print(\"Mean:\", stats.mean(data))\n",
        "print(\"Median:\", stats.median(data))\n",
        "print(\"Mode:\", stats.mode(data))\n"
      ],
      "metadata": {
        "colab": {
          "base_uri": "https://localhost:8080/"
        },
        "id": "weStqLr65QIN",
        "outputId": "d34bea03-8fd9-43ad-d5fa-dbb4c356612e"
      },
      "execution_count": 2,
      "outputs": [
        {
          "output_type": "stream",
          "name": "stdout",
          "text": [
            "Mean: 24\n",
            "Median: 20\n",
            "Mode: 20\n"
          ]
        }
      ]
    },
    {
      "cell_type": "markdown",
      "source": [
        "2. Write a Python program to compute the variance and standard deviation of a dataset"
      ],
      "metadata": {
        "id": "yRTIrOOs3kqX"
      }
    },
    {
      "cell_type": "code",
      "source": [
        "import statistics as stats\n",
        "\n",
        "data = [10, 20, 30, 40, 50]\n",
        "print(\"Variance:\", stats.variance(data))\n",
        "print(\"Standard Deviation:\", stats.stdev(data))\n"
      ],
      "metadata": {
        "colab": {
          "base_uri": "https://localhost:8080/"
        },
        "id": "r_rdoRWS5ESU",
        "outputId": "2795a0e7-2733-4e5c-dae5-5b02f56e67ea"
      },
      "execution_count": 1,
      "outputs": [
        {
          "output_type": "stream",
          "name": "stdout",
          "text": [
            "Variance: 250\n",
            "Standard Deviation: 15.811388300841896\n"
          ]
        }
      ]
    },
    {
      "cell_type": "markdown",
      "source": [
        "3. Create a dataset and classify it into nominal, ordinal, interval, and ratio types"
      ],
      "metadata": {
        "id": "d4hFZyck5Sab"
      }
    },
    {
      "cell_type": "code",
      "source": [
        "\n",
        "genders = [\"Male\", \"Female\", \"Other\"]\n",
        "\n",
        "\n",
        "education = [\"High School\", \"Bachelor\", \"Master\", \"PhD\"]\n",
        "\n",
        "\n",
        "temperature = [20, 25, 30, 35]  # Celsius\n",
        "\n",
        "\n",
        "weights = [50, 60, 70, 80]  # in kg\n"
      ],
      "metadata": {
        "id": "B4s7f0XK5X0-"
      },
      "execution_count": 3,
      "outputs": []
    },
    {
      "cell_type": "markdown",
      "source": [
        "4. Implement sampling techniques like random sampling and stratified sampling"
      ],
      "metadata": {
        "id": "lWvL8HfB5buf"
      }
    },
    {
      "cell_type": "code",
      "source": [
        "import pandas as pd\n",
        "from sklearn.model_selection import train_test_split\n",
        "\n",
        "df = pd.DataFrame({'ID': range(1, 101), 'Group': ['A']*50 + ['B']*50})\n",
        "\n",
        "\n",
        "random_sample = df.sample(n=10)\n",
        "\n",
        "stratified_sample = df.groupby('Group', group_keys=False).apply(lambda x: x.sample(5))\n"
      ],
      "metadata": {
        "colab": {
          "base_uri": "https://localhost:8080/"
        },
        "id": "TRjSTMgk53NQ",
        "outputId": "07fc4e9f-d822-445f-9e17-859a04681109"
      },
      "execution_count": 4,
      "outputs": [
        {
          "output_type": "stream",
          "name": "stderr",
          "text": [
            "/tmp/ipython-input-4-1162364252.py:9: DeprecationWarning: DataFrameGroupBy.apply operated on the grouping columns. This behavior is deprecated, and in a future version of pandas the grouping columns will be excluded from the operation. Either pass `include_groups=False` to exclude the groupings or explicitly select the grouping columns after groupby to silence this warning.\n",
            "  stratified_sample = df.groupby('Group', group_keys=False).apply(lambda x: x.sample(5))\n"
          ]
        }
      ]
    },
    {
      "cell_type": "markdown",
      "source": [
        "5. Write a Python function to calculate the range of a dataset"
      ],
      "metadata": {
        "id": "IbNIGdn56Lbn"
      }
    },
    {
      "cell_type": "code",
      "source": [
        "def calculate_range(data):\n",
        "    return max(data) - min(data)\n",
        "\n",
        "data = [10, 20, 30, 40, 50]\n",
        "print(\"Range:\", calculate_range(data))\n"
      ],
      "metadata": {
        "colab": {
          "base_uri": "https://localhost:8080/"
        },
        "id": "mvXWJvqt5GKn",
        "outputId": "fc5fdd33-e2f8-4617-ba4c-f653b4608353"
      },
      "execution_count": 5,
      "outputs": [
        {
          "output_type": "stream",
          "name": "stdout",
          "text": [
            "Range: 40\n"
          ]
        }
      ]
    },
    {
      "cell_type": "markdown",
      "source": [
        "6. Create a dataset and plot its histogram to visualize skewness"
      ],
      "metadata": {
        "id": "kH8-qbwP6OuF"
      }
    },
    {
      "cell_type": "code",
      "source": [
        "  import matplotlib.pyplot as plt\n",
        "\n",
        "data = [10, 20, 20, 25, 30, 35, 80]\n",
        "plt.hist(data, bins=5)\n",
        "plt.title(\"Histogram\")\n",
        "plt.show()\n"
      ],
      "metadata": {
        "colab": {
          "base_uri": "https://localhost:8080/",
          "height": 452
        },
        "id": "RfKM4kSr6Nfy",
        "outputId": "ab62ec82-cf9c-4e05-f2a4-a62d22bec051"
      },
      "execution_count": 6,
      "outputs": [
        {
          "output_type": "display_data",
          "data": {
            "text/plain": [
              "<Figure size 640x480 with 1 Axes>"
            ],
            "image/png": "[encoded data removed]"
          },
          "metadata": {}
        }
      ]
    },
    {
      "cell_type": "markdown",
      "source": [
        "7. Calculate skewness and kurtosis of a dataset using Python libraries"
      ],
      "metadata": {
        "id": "HjAD51Bv6sSX"
      }
    },
    {
      "cell_type": "code",
      "source": [
        "from scipy.stats import skew, kurtosis\n",
        "\n",
        "data = [10, 20, 20, 30, 35, 50, 100]\n",
        "print(\"Skewness:\", skew(data))\n",
        "print(\"Kurtosis:\", kurtosis(data))\n"
      ],
      "metadata": {
        "colab": {
          "base_uri": "https://localhost:8080/"
        },
        "id": "CQugd-lj6ruR",
        "outputId": "371d44f2-dfca-46e9-81ae-9d46096f7eee"
      },
      "execution_count": 7,
      "outputs": [
        {
          "output_type": "stream",
          "name": "stdout",
          "text": [
            "Skewness: 1.3534655741145012\n",
            "Kurtosis: 0.6527645549841798\n"
          ]
        }
      ]
    },
    {
      "cell_type": "markdown",
      "source": [
        "8. Generate a dataset and demonstrate positive and negative skewness"
      ],
      "metadata": {
        "id": "3rwbG-2L6wvf"
      }
    },
    {
      "cell_type": "code",
      "source": [
        "# Positive skew\n",
        "positive = [1, 2, 3, 4, 100]\n",
        "# Negative skew\n",
        "negative = [100, 90, 80, 70, 1]\n",
        "\n",
        "print(\"Positive Skewness:\", skew(positive))\n",
        "print(\"Negative Skewness:\", skew(negative))\n"
      ],
      "metadata": {
        "colab": {
          "base_uri": "https://localhost:8080/"
        },
        "id": "PnNk6Jzn6vtA",
        "outputId": "8123cb10-ad3a-44cb-e671-ffe37802c60f"
      },
      "execution_count": 8,
      "outputs": [
        {
          "output_type": "stream",
          "name": "stdout",
          "text": [
            "Positive Skewness: 1.4975367033335198\n",
            "Negative Skewness: -1.2037114926030172\n"
          ]
        }
      ]
    },
    {
      "cell_type": "markdown",
      "source": [
        "9. Write a Python script to calculate covariance between two datasets"
      ],
      "metadata": {
        "id": "SuHVcG2B61uu"
      }
    },
    {
      "cell_type": "code",
      "source": [
        "import numpy as np\n",
        "x = [2, 4, 6, 8]\n",
        "y = [1, 3, 5, 7]\n",
        "\n",
        "cov_matrix = np.cov(x, y)\n",
        "print(\"Covariance Matrix:\\n\", cov_matrix)\n"
      ],
      "metadata": {
        "colab": {
          "base_uri": "https://localhost:8080/"
        },
        "id": "gWjsy0jG604_",
        "outputId": "60575137-5201-4fd9-f1c6-8ceef7804a8f"
      },
      "execution_count": 11,
      "outputs": [
        {
          "output_type": "stream",
          "name": "stdout",
          "text": [
            "Covariance Matrix:\n",
            " [[6.66666667 6.66666667]\n",
            " [6.66666667 6.66666667]]\n"
          ]
        }
      ]
    },
    {
      "cell_type": "markdown",
      "source": [
        "10. Write a Python script to calculate the correlation coefficient between two datasets"
      ],
      "metadata": {
        "id": "g1lANOsk7LF9"
      }
    },
    {
      "cell_type": "code",
      "source": [
        "corr = np.corrcoef(x, y)\n",
        "print(\"Correlation Coefficient Matrix:\\n\", corr)\n"
      ],
      "metadata": {
        "colab": {
          "base_uri": "https://localhost:8080/"
        },
        "id": "ee590CM565YY",
        "outputId": "c1aa8614-2798-40d5-b3cf-b14919585363"
      },
      "execution_count": 12,
      "outputs": [
        {
          "output_type": "stream",
          "name": "stdout",
          "text": [
            "Correlation Coefficient Matrix:\n",
            " [[1. 1.]\n",
            " [1. 1.]]\n"
          ]
        }
      ]
    },
    {
      "cell_type": "markdown",
      "source": [
        "11. Create a scatter plot to visualize the relationship between two variables"
      ],
      "metadata": {
        "id": "BP_Boqpj7Q9X"
      }
    },
    {
      "cell_type": "code",
      "source": [
        "plt.scatter(x, y)\n",
        "plt.title(\"Scatter Plot\")\n",
        "plt.xlabel(\"X\")\n",
        "plt.ylabel(\"Y\")\n",
        "plt.show()\n"
      ],
      "metadata": {
        "colab": {
          "base_uri": "https://localhost:8080/",
          "height": 472
        },
        "id": "9pLH00ql7O7h",
        "outputId": "66b3188f-f32e-4044-c7bc-9affc4195e7f"
      },
      "execution_count": 13,
      "outputs": [
        {
          "output_type": "display_data",
          "data": {
            "text/plain": [
              "<Figure size 640x480 with 1 Axes>"
            ],
            "image/png": "[encoded data removed]"
          },
          "metadata": {}
        }
      ]
    },
    {
      "cell_type": "markdown",
      "source": [
        "12. Implement and compare simple random sampling and systematic sampling"
      ],
      "metadata": {
        "id": "JfIS0Kmg7WoD"
      }
    },
    {
      "cell_type": "code",
      "source": [
        "import random\n",
        "\n",
        "data = list(range(1, 101))\n",
        "# Simple random\n",
        "simple_random = random.sample(data, 10)\n",
        "\n",
        "# Systematic sampling\n",
        "k = 10\n",
        "start = random.randint(0, k-1)\n",
        "systematic = data[start::k][:10]\n",
        "\n",
        "print(\"Simple Random:\", simple_random)\n",
        "print(\"Systematic:\", systematic)\n"
      ],
      "metadata": {
        "colab": {
          "base_uri": "https://localhost:8080/"
        },
        "id": "0g8PSrWr7U4d",
        "outputId": "c45ffbd0-4132-49ad-dfdd-b53a9b0162b6"
      },
      "execution_count": 14,
      "outputs": [
        {
          "output_type": "stream",
          "name": "stdout",
          "text": [
            "Simple Random: [8, 44, 42, 77, 60, 98, 88, 93, 15, 36]\n",
            "Systematic: [6, 16, 26, 36, 46, 56, 66, 76, 86, 96]\n"
          ]
        }
      ]
    },
    {
      "cell_type": "markdown",
      "source": [
        "13. Calculate the mean, median, and mode of grouped data"
      ],
      "metadata": {
        "id": "qHPiGRi1EO6_"
      }
    },
    {
      "cell_type": "code",
      "source": [
        "import pandas as pd\n",
        "\n",
        "df = pd.DataFrame({'Marks': [10, 20, 20, 30, 30, 30, 40, 50, 50]})\n",
        "print(\"Mean:\", df['Marks'].mean())\n",
        "print(\"Median:\", df['Marks'].median())\n",
        "print(\"Mode:\", df['Marks'].mode()[0])\n"
      ],
      "metadata": {
        "colab": {
          "base_uri": "https://localhost:8080/"
        },
        "id": "xzfAmaDqEJyj",
        "outputId": "57dc1eb9-f4aa-4f0f-f41f-3176070b7927"
      },
      "execution_count": 15,
      "outputs": [
        {
          "output_type": "stream",
          "name": "stdout",
          "text": [
            "Mean: 31.11111111111111\n",
            "Median: 30.0\n",
            "Mode: 30\n"
          ]
        }
      ]
    },
    {
      "cell_type": "markdown",
      "source": [
        "14. Simulate data using Python and calculate its central tendency and dispersion"
      ],
      "metadata": {
        "id": "XS9iJWBTET1B"
      }
    },
    {
      "cell_type": "code",
      "source": [
        "data = np.random.randint(1, 100, 50)\n",
        "print(\"Mean:\", np.mean(data))\n",
        "print(\"Median:\", np.median(data))\n",
        "print(\"Standard Deviation:\", np.std(data))\n",
        "\n"
      ],
      "metadata": {
        "colab": {
          "base_uri": "https://localhost:8080/"
        },
        "id": "V4aXricRESpk",
        "outputId": "0b99e451-7f01-4698-9bfa-a890f7511835"
      },
      "execution_count": 16,
      "outputs": [
        {
          "output_type": "stream",
          "name": "stdout",
          "text": [
            "Mean: 50.06\n",
            "Median: 48.0\n",
            "Standard Deviation: 28.085163342946753\n"
          ]
        }
      ]
    },
    {
      "cell_type": "markdown",
      "source": [
        "15. Use NumPy or pandas to summarize a dataset’s descriptive statistics"
      ],
      "metadata": {
        "id": "bv8-DScQEZAN"
      }
    },
    {
      "cell_type": "code",
      "source": [
        "df = pd.DataFrame({'Scores': np.random.randint(10, 100, 20)})\n",
        "print(df.describe())\n"
      ],
      "metadata": {
        "colab": {
          "base_uri": "https://localhost:8080/"
        },
        "id": "0maD34OvEYNO",
        "outputId": "9933050a-2cba-4b96-b663-6bd7fff19b40"
      },
      "execution_count": 17,
      "outputs": [
        {
          "output_type": "stream",
          "name": "stdout",
          "text": [
            "         Scores\n",
            "count  20.00000\n",
            "mean   44.80000\n",
            "std    25.63427\n",
            "min    12.00000\n",
            "25%    19.75000\n",
            "50%    42.00000\n",
            "75%    62.25000\n",
            "max    89.00000\n"
          ]
        }
      ]
    },
    {
      "cell_type": "markdown",
      "source": [
        "16. Plot a boxplot to understand the spread and identify outliers"
      ],
      "metadata": {
        "id": "6nVXluGnEdtP"
      }
    },
    {
      "cell_type": "code",
      "source": [
        "import seaborn as sns\n",
        "\n",
        "sns.boxplot(data=df['Scores'])\n",
        "plt.title(\"Boxplot\")\n",
        "plt.show()\n"
      ],
      "metadata": {
        "colab": {
          "base_uri": "https://localhost:8080/",
          "height": 433
        },
        "id": "abCu2JmJEcvv",
        "outputId": "c3acd19b-eede-4f1c-d818-c263e43f6ee2"
      },
      "execution_count": 18,
      "outputs": [
        {
          "output_type": "display_data",
          "data": {
            "text/plain": [
              "<Figure size 640x480 with 1 Axes>"
            ],
            "image/png": "[encoded data removed]"
          },
          "metadata": {}
        }
      ]
    },
    {
      "cell_type": "markdown",
      "source": [
        "17. Calculate the interquartile range (IQR) of a dataset"
      ],
      "metadata": {
        "id": "Uc0OPZqREkmO"
      }
    },
    {
      "cell_type": "code",
      "source": [
        "q1 = np.percentile(data, 25)\n",
        "q3 = np.percentile(data, 75)\n",
        "iqr = q3 - q1\n",
        "print(\"IQR:\", iqr)\n"
      ],
      "metadata": {
        "colab": {
          "base_uri": "https://localhost:8080/"
        },
        "id": "eAZ5j2PXEhpM",
        "outputId": "e29371a6-3ac5-48a6-da90-48a9490deeed"
      },
      "execution_count": 19,
      "outputs": [
        {
          "output_type": "stream",
          "name": "stdout",
          "text": [
            "IQR: 48.0\n"
          ]
        }
      ]
    },
    {
      "cell_type": "markdown",
      "source": [
        "18. Implement Z-score normalization and explain its significance"
      ],
      "metadata": {
        "id": "VWyqkcQdEn6A"
      }
    },
    {
      "cell_type": "code",
      "source": [
        "z_scores = (data - np.mean(data)) / np.std(data)\n",
        "print(\"Z-scores:\", z_scores)\n",
        "# Significance: Converts data to a standard scale with mean 0 and std 1\n"
      ],
      "metadata": {
        "colab": {
          "base_uri": "https://localhost:8080/"
        },
        "id": "RlGWxjIGEm34",
        "outputId": "50ef2569-0253-42b4-8a03-22cb346dbbe9"
      },
      "execution_count": 20,
      "outputs": [
        {
          "output_type": "stream",
          "name": "stdout",
          "text": [
            "Z-scores: [ 1.6713451  -0.1801663  -1.28395194 -1.03471002 -0.00213636 -1.14152799\n",
            " -0.7854681  -0.25137828 -0.21577229  1.38649719  1.06604329 -0.7854681\n",
            " -0.03774235 -0.07334834  1.49331515  0.24710556  0.99483132 -0.99910403\n",
            "  0.10468161 -0.74986212 -1.28395194  0.63877143  0.99483132  1.74255707\n",
            "  1.63573911 -0.82107409 -1.21273996 -0.60743816  1.49331515  1.13725527\n",
            "  1.10164928 -1.53319386  1.0304373  -1.56879985 -0.32259025 -0.64304415\n",
            "  1.70695108 -0.07334834  0.70998341 -1.17713398 -0.25137828  0.60316544\n",
            " -1.28395194  0.56755945 -1.7112238   0.31831754  0.60316544 -0.60743816\n",
            "  0.10468161 -0.71425613]\n"
          ]
        }
      ]
    },
    {
      "cell_type": "markdown",
      "source": [
        "19. Compare two datasets using their standard deviations"
      ],
      "metadata": {
        "id": "ZqBjhMw6Esbk"
      }
    },
    {
      "cell_type": "code",
      "source": [
        "data1 = np.random.randint(10, 50, 10)\n",
        "data2 = np.random.randint(30, 80, 10)\n",
        "print(\"Std Dev 1:\", np.std(data1))\n",
        "print(\"Std Dev 2:\", np.std(data2))\n"
      ],
      "metadata": {
        "colab": {
          "base_uri": "https://localhost:8080/"
        },
        "id": "Ga0gocGwErYi",
        "outputId": "9dcad376-190a-40ec-e892-b87af9458fcd"
      },
      "execution_count": 21,
      "outputs": [
        {
          "output_type": "stream",
          "name": "stdout",
          "text": [
            "Std Dev 1: 11.810588469674151\n",
            "Std Dev 2: 13.11525828948862\n"
          ]
        }
      ]
    },
    {
      "cell_type": "markdown",
      "source": [
        "20. Write a Python program to visualize covariance using a heatmap"
      ],
      "metadata": {
        "id": "tWMLTajAEwmB"
      }
    },
    {
      "cell_type": "code",
      "source": [
        " import seaborn as sns\n",
        "\n",
        "df = pd.DataFrame({'X': x, 'Y': y})\n",
        "sns.heatmap(df.cov(), annot=True)\n",
        "plt.title(\"Covariance Heatmap\")\n",
        "plt.show()\n"
      ],
      "metadata": {
        "colab": {
          "base_uri": "https://localhost:8080/",
          "height": 452
        },
        "id": "lqoSKNOCEv17",
        "outputId": "aecea83f-d347-4fae-aeef-5693c6c69ee2"
      },
      "execution_count": 22,
      "outputs": [
        {
          "output_type": "display_data",
          "data": {
            "text/plain": [
              "<Figure size 640x480 with 2 Axes>"
            ],
            "image/png": "[encoded data removed]"
          },
          "metadata": {}
        }
      ]
    },
    {
      "cell_type": "markdown",
      "source": [
        "21. Use seaborn to create a correlation matrix for a dataset"
      ],
      "metadata": {
        "id": "x38c1xu6E0TD"
      }
    },
    {
      "cell_type": "code",
      "source": [
        "sns.heatmap(df.corr(), annot=True, cmap=\"coolwarm\")\n",
        "plt.title(\"Correlation Matrix\")\n",
        "plt.show()\n"
      ],
      "metadata": {
        "colab": {
          "base_uri": "https://localhost:8080/",
          "height": 452
        },
        "id": "b6Ff98xZEzq-",
        "outputId": "ab62b455-20f7-40e6-f7d8-0f88a7057956"
      },
      "execution_count": 23,
      "outputs": [
        {
          "output_type": "display_data",
          "data": {
            "text/plain": [
              "<Figure size 640x480 with 2 Axes>"
            ],
            "image/png": "[encoded data removed]"
          },
          "metadata": {}
        }
      ]
    },
    {
      "cell_type": "markdown",
      "source": [
        "22. Generate a dataset and implement both variance and standard deviation computations"
      ],
      "metadata": {
        "id": "8x77tKoYE6qL"
      }
    },
    {
      "cell_type": "code",
      "source": [
        "data = np.random.randint(1, 100, 30)\n",
        "print(\"Variance:\", np.var(data))\n",
        "print(\"Standard Deviation:\", np.std(data))\n"
      ],
      "metadata": {
        "colab": {
          "base_uri": "https://localhost:8080/"
        },
        "id": "jD7BlPMeE36L",
        "outputId": "5c21eaca-3119-47e7-b89e-07ae9f584aab"
      },
      "execution_count": 24,
      "outputs": [
        {
          "output_type": "stream",
          "name": "stdout",
          "text": [
            "Variance: 771.728888888889\n",
            "Standard Deviation: 27.780008799294663\n"
          ]
        }
      ]
    },
    {
      "cell_type": "markdown",
      "source": [
        "23. Visualize skewness and kurtosis using Python libraries like matplotlib or seaborn"
      ],
      "metadata": {
        "id": "kLhO7lugE-5k"
      }
    },
    {
      "cell_type": "code",
      "source": [
        "sns.histplot(data, kde=True)\n",
        "plt.title(\"Histogram with KDE\")\n",
        "plt.show()\n",
        "\n",
        "print(\"Skewness:\", skew(data))\n",
        "print(\"Kurtosis:\", kurtosis(data))\n"
      ],
      "metadata": {
        "colab": {
          "base_uri": "https://localhost:8080/",
          "height": 487
        },
        "id": "ylshDBaBE9s0",
        "outputId": "17e86fea-521f-4785-ba6c-2d7e81c158c8"
      },
      "execution_count": 25,
      "outputs": [
        {
          "output_type": "display_data",
          "data": {
            "text/plain": [
              "<Figure size 640x480 with 1 Axes>"
            ],
            "image/png": "[encoded data removed]"
          },
          "metadata": {}
        },
        {
          "output_type": "stream",
          "name": "stdout",
          "text": [
            "Skewness: -0.003588633616117642\n",
            "Kurtosis: -1.4035324013996884\n"
          ]
        }
      ]
    },
    {
      "cell_type": "markdown",
      "source": [
        "24. Implement the Pearson and Spearman correlation coefficients for a dataset"
      ],
      "metadata": {
        "id": "wlKYNwEOFEgn"
      }
    },
    {
      "cell_type": "code",
      "source": [
        "from scipy.stats import pearsonr, spearmanr\n",
        "\n",
        "print(\"Pearson:\", pearsonr(x, y))\n",
        "print(\"Spearman:\", spearmanr(x, y))\n"
      ],
      "metadata": {
        "colab": {
          "base_uri": "https://localhost:8080/"
        },
        "id": "TsXRYOHpFDqO",
        "outputId": "f46618b2-19fa-4969-853b-8061e323e9aa"
      },
      "execution_count": 26,
      "outputs": [
        {
          "output_type": "stream",
          "name": "stdout",
          "text": [
            "Pearson: PearsonRResult(statistic=np.float64(0.9999999999999999), pvalue=np.float64(0.0))\n",
            "Spearman: SignificanceResult(statistic=np.float64(1.0), pvalue=np.float64(0.0))\n"
          ]
        }
      ]
    }
  ]
}